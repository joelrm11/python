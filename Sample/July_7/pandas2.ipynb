{
 "cells": [
  {
   "cell_type": "code",
   "execution_count": 2,
   "metadata": {},
   "outputs": [
    {
     "name": "stdout",
     "output_type": "stream",
     "text": [
      "   temp  windspeed\n",
      "0    23          2\n",
      "1    22          3\n",
      "2    21          6\n",
      "3    23          4\n",
      "4    21          8\n",
      "5    20          9\n",
      "6    26          4\n",
      "7    27          5\n"
     ]
    }
   ],
   "source": [
    "import pandas as pd\n",
    "wd={\n",
    "    'temp':[23,22,21,23,21,20,26,27],\n",
    "    'windspeed':[2,3,6,4,8,9,4,5]\n",
    "}\n",
    "d=pd.DataFrame(wd)\n",
    "print(d)"
   ]
  }
 ],
 "metadata": {
  "kernelspec": {
   "display_name": "Python 3",
   "language": "python",
   "name": "python3"
  },
  "language_info": {
   "codemirror_mode": {
    "name": "ipython",
    "version": 3
   },
   "file_extension": ".py",
   "mimetype": "text/x-python",
   "name": "python",
   "nbconvert_exporter": "python",
   "pygments_lexer": "ipython3",
   "version": "3.11.4"
  },
  "orig_nbformat": 4
 },
 "nbformat": 4,
 "nbformat_minor": 2
}
